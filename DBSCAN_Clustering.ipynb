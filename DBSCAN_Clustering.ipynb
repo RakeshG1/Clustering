{
 "cells": [
  {
   "cell_type": "markdown",
   "metadata": {},
   "source": [
    "### Importing Libraries"
   ]
  },
  {
   "cell_type": "code",
   "execution_count": 314,
   "metadata": {},
   "outputs": [],
   "source": [
    "import pandas as pd\n",
    "import numpy as np\n",
    "from sklearn import metrics \n",
    "from sklearn.cluster import DBSCAN\n",
    "from sklearn.preprocessing import StandardScaler\n",
    "import matplotlib.pyplot as plt\n",
    "\n",
    "# print(plt.style.available)"
   ]
  },
  {
   "cell_type": "markdown",
   "metadata": {},
   "source": [
    "&nbsp;"
   ]
  },
  {
   "cell_type": "markdown",
   "metadata": {},
   "source": [
    "&nbsp;"
   ]
  },
  {
   "cell_type": "markdown",
   "metadata": {},
   "source": [
    "### Sample Data"
   ]
  },
  {
   "cell_type": "code",
   "execution_count": 316,
   "metadata": {},
   "outputs": [
    {
     "name": "stdout",
     "output_type": "stream",
     "text": [
      "[[-2, 2.6], [2, 3.2], [1.6, 3], [1.6, 1.9], [1.9, 2.4], [2.2, 2.6], [2.4, 2.2], [1.6, 2.4], [3.5, 3.8], [5, 5], [5, 5.5], [5, 6], [5, 6.2], [4, 5], [4, 5.5], [4.5, 6], [4.2, 6.2], [4.5, 4.8], [4.5, 5.2]]\n"
     ]
    }
   ],
   "source": [
    "X = [[-2,2.6],[2,3.2],[1.6,3],[1.6,1.9],[1.9,2.4],[2.2,2.6],[2.4,2.2],[1.6,2.4],\n",
    "     [3.5,3.8],[5,5],[5,5.5],[5,6],[5,6.2],[4,5],[4,5.5],[4.5,6],[4.2,6.2],[4.5,4.8],[4.5,5.2]]\n",
    "print(X)"
   ]
  },
  {
   "cell_type": "markdown",
   "metadata": {},
   "source": [
    "&nbsp;"
   ]
  },
  {
   "cell_type": "markdown",
   "metadata": {},
   "source": [
    "&nbsp;"
   ]
  },
  {
   "cell_type": "markdown",
   "metadata": {},
   "source": [
    "### Preprocessing(Scaling : Getting features on same scale)"
   ]
  },
  {
   "cell_type": "code",
   "execution_count": 322,
   "metadata": {},
   "outputs": [
    {
     "name": "stdout",
     "output_type": "stream",
     "text": [
      "========================================\n",
      "X-axis values :\n",
      "========================================\n",
      "[-2.9201115955562704, -0.6670305675128536, -0.8923386703171953, -0.8923386703171953, -0.7233575932139391, -0.5543765161106827, -0.441722464708512, -0.8923386703171953, 0.1778748180034277, 1.022780203519709, 1.022780203519709, 1.022780203519709, 1.022780203519709, 0.45950994650885485, 0.45950994650885485, 0.741145075014282, 0.5721639979110258, 0.741145075014282, 0.741145075014282] \n",
      "\n",
      "========================================\n",
      "Y-axis values :\n",
      "========================================\n",
      "[-1.0412046471353709, -0.6468613588515426, -0.7783091216128188, -1.5012718167998373, -1.172652409896647, -1.0412046471353709, -1.304100172657923, -1.172652409896647, -0.25251807056771464, 0.5361685059999419, 0.8647879129031322, 1.1934073198063224, 1.3248550825675987, 0.5361685059999419, 0.8647879129031322, 1.1934073198063224, 1.3248550825675987, 0.4047207432386658, 0.6676162687612182]\n"
     ]
    }
   ],
   "source": [
    "X_1 = StandardScaler().fit_transform(X)\n",
    "\n",
    "x = [X_1.tolist()[i][0] for i in range(len(X_1.tolist()))]\n",
    "y = [X_1.tolist()[i][1] for i in range(len(X_1.tolist()))]\n",
    "print('=='*20)\n",
    "print('X-axis values :')\n",
    "print('=='*20)\n",
    "print(x,'\\n')\n",
    "print('=='*20)\n",
    "print('Y-axis values :')\n",
    "print('=='*20)\n",
    "print(y)\n",
    "\n",
    "x_original = [X[i][0] for i in range(len(X))]\n",
    "y_original = [X[i][1] for i in range(len(X))]\n",
    "df = pd.DataFrame({'X':x,'Y':y,'x_original':x_original,'y_original':y_original})"
   ]
  },
  {
   "cell_type": "markdown",
   "metadata": {},
   "source": [
    "&nbsp;"
   ]
  },
  {
   "cell_type": "markdown",
   "metadata": {},
   "source": [
    "&nbsp;"
   ]
  },
  {
   "cell_type": "markdown",
   "metadata": {},
   "source": [
    "### Visualizing Sample Data"
   ]
  },
  {
   "cell_type": "code",
   "execution_count": 327,
   "metadata": {},
   "outputs": [
    {
     "data": {
      "text/plain": [
       "<matplotlib.collections.PathCollection at 0x1a2b445f50>"
      ]
     },
     "execution_count": 327,
     "metadata": {},
     "output_type": "execute_result"
    },
    {
     "data": {
      "image/png": "[encoded data removed]",
      "text/plain": [
       "<Figure size 432x288 with 1 Axes>"
      ]
     },
     "metadata": {},
     "output_type": "display_data"
    }
   ],
   "source": [
    "fig,axes = plt.subplots(nrows=1,ncols=1,figsize=(6,4))\n",
    "\n",
    "axes.scatter(x,y,marker='o',color='blue',s=200)"
   ]
  },
  {
   "cell_type": "markdown",
   "metadata": {},
   "source": [
    "#### Key Note:\n",
    "* As this is example 2dimensional real data, we can see here that, there are two dense regions & two isolated data points.\n",
    "* These two dense regions are two good clusters.\n",
    "* Our <span style='background:yellow'>DBSCAN(i.e.,Density Based spatial Clustering Of Application With Noise) algorithm</span> tries to find this dense regions and makes clusters of these dense region data points."
   ]
  },
  {
   "cell_type": "markdown",
   "metadata": {},
   "source": [
    "&nbsp;"
   ]
  },
  {
   "cell_type": "markdown",
   "metadata": {},
   "source": [
    "&nbsp;"
   ]
  },
  {
   "cell_type": "markdown",
   "metadata": {},
   "source": [
    "### Distance Calculation(From each point to its 2nd nearest neighbour: as we took min points as 2)"
   ]
  },
  {
   "cell_type": "code",
   "execution_count": 328,
   "metadata": {},
   "outputs": [
    {
     "data": {
      "text/html": [
       "<div>\n",
       "<style scoped>\n",
       "    .dataframe tbody tr th:only-of-type {\n",
       "        vertical-align: middle;\n",
       "    }\n",
       "\n",
       "    .dataframe tbody tr th {\n",
       "        vertical-align: top;\n",
       "    }\n",
       "\n",
       "    .dataframe thead th {\n",
       "        text-align: right;\n",
       "    }\n",
       "</style>\n",
       "<table border=\"1\" class=\"dataframe\">\n",
       "  <thead>\n",
       "    <tr style=\"text-align: right;\">\n",
       "      <th></th>\n",
       "      <th>Point_from</th>\n",
       "      <th>Point_to</th>\n",
       "      <th>Distance</th>\n",
       "    </tr>\n",
       "  </thead>\n",
       "  <tbody>\n",
       "    <tr>\n",
       "      <td>0</td>\n",
       "      <td>[1.9, 2.4]</td>\n",
       "      <td>[2.2, 2.6]</td>\n",
       "      <td>0.361</td>\n",
       "    </tr>\n",
       "    <tr>\n",
       "      <td>1</td>\n",
       "      <td>[2.2, 2.6]</td>\n",
       "      <td>[1.9, 2.4]</td>\n",
       "      <td>0.361</td>\n",
       "    </tr>\n",
       "    <tr>\n",
       "      <td>2</td>\n",
       "      <td>[2.4, 2.2]</td>\n",
       "      <td>[2.2, 2.6]</td>\n",
       "      <td>0.447</td>\n",
       "    </tr>\n",
       "    <tr>\n",
       "      <td>3</td>\n",
       "      <td>[1.6, 2.4]</td>\n",
       "      <td>[2.2, 2.6]</td>\n",
       "      <td>0.447</td>\n",
       "    </tr>\n",
       "    <tr>\n",
       "      <td>4</td>\n",
       "      <td>[4.5, 5.2]</td>\n",
       "      <td>[4, 5]</td>\n",
       "      <td>0.5</td>\n",
       "    </tr>\n",
       "    <tr>\n",
       "      <td>5</td>\n",
       "      <td>[4.2, 6.2]</td>\n",
       "      <td>[4, 5]</td>\n",
       "      <td>0.5</td>\n",
       "    </tr>\n",
       "    <tr>\n",
       "      <td>6</td>\n",
       "      <td>[4.5, 6]</td>\n",
       "      <td>[4, 5]</td>\n",
       "      <td>0.5</td>\n",
       "    </tr>\n",
       "    <tr>\n",
       "      <td>7</td>\n",
       "      <td>[4, 5.5]</td>\n",
       "      <td>[4, 5]</td>\n",
       "      <td>0.5</td>\n",
       "    </tr>\n",
       "    <tr>\n",
       "      <td>8</td>\n",
       "      <td>[4, 5]</td>\n",
       "      <td>[4, 5.5]</td>\n",
       "      <td>0.5</td>\n",
       "    </tr>\n",
       "    <tr>\n",
       "      <td>9</td>\n",
       "      <td>[4.5, 4.8]</td>\n",
       "      <td>[4, 5]</td>\n",
       "      <td>0.5</td>\n",
       "    </tr>\n",
       "    <tr>\n",
       "      <td>10</td>\n",
       "      <td>[5, 5.5]</td>\n",
       "      <td>[5, 6]</td>\n",
       "      <td>0.5</td>\n",
       "    </tr>\n",
       "    <tr>\n",
       "      <td>11</td>\n",
       "      <td>[5, 6]</td>\n",
       "      <td>[5, 5.5]</td>\n",
       "      <td>0.5</td>\n",
       "    </tr>\n",
       "    <tr>\n",
       "      <td>12</td>\n",
       "      <td>[5, 6.2]</td>\n",
       "      <td>[5, 5.5]</td>\n",
       "      <td>0.5</td>\n",
       "    </tr>\n",
       "    <tr>\n",
       "      <td>13</td>\n",
       "      <td>[5, 5]</td>\n",
       "      <td>[4.5, 4.8]</td>\n",
       "      <td>0.539</td>\n",
       "    </tr>\n",
       "    <tr>\n",
       "      <td>14</td>\n",
       "      <td>[1.6, 1.9]</td>\n",
       "      <td>[1.9, 2.4]</td>\n",
       "      <td>0.583</td>\n",
       "    </tr>\n",
       "    <tr>\n",
       "      <td>15</td>\n",
       "      <td>[3.5, 3.8]</td>\n",
       "      <td>[1.9, 2.4]</td>\n",
       "      <td>0.583</td>\n",
       "    </tr>\n",
       "    <tr>\n",
       "      <td>16</td>\n",
       "      <td>[1.6, 3]</td>\n",
       "      <td>[1.6, 2.4]</td>\n",
       "      <td>0.6</td>\n",
       "    </tr>\n",
       "    <tr>\n",
       "      <td>17</td>\n",
       "      <td>[2, 3.2]</td>\n",
       "      <td>[2.2, 2.6]</td>\n",
       "      <td>0.632</td>\n",
       "    </tr>\n",
       "    <tr>\n",
       "      <td>18</td>\n",
       "      <td>[-2, 2.6]</td>\n",
       "      <td>[1.6, 3]</td>\n",
       "      <td>3.622</td>\n",
       "    </tr>\n",
       "  </tbody>\n",
       "</table>\n",
       "</div>"
      ],
      "text/plain": [
       "    Point_from    Point_to Distance\n",
       "0   [1.9, 2.4]  [2.2, 2.6]    0.361\n",
       "1   [2.2, 2.6]  [1.9, 2.4]    0.361\n",
       "2   [2.4, 2.2]  [2.2, 2.6]    0.447\n",
       "3   [1.6, 2.4]  [2.2, 2.6]    0.447\n",
       "4   [4.5, 5.2]      [4, 5]      0.5\n",
       "5   [4.2, 6.2]      [4, 5]      0.5\n",
       "6     [4.5, 6]      [4, 5]      0.5\n",
       "7     [4, 5.5]      [4, 5]      0.5\n",
       "8       [4, 5]    [4, 5.5]      0.5\n",
       "9   [4.5, 4.8]      [4, 5]      0.5\n",
       "10    [5, 5.5]      [5, 6]      0.5\n",
       "11      [5, 6]    [5, 5.5]      0.5\n",
       "12    [5, 6.2]    [5, 5.5]      0.5\n",
       "13      [5, 5]  [4.5, 4.8]    0.539\n",
       "14  [1.6, 1.9]  [1.9, 2.4]    0.583\n",
       "15  [3.5, 3.8]  [1.9, 2.4]    0.583\n",
       "16    [1.6, 3]  [1.6, 2.4]      0.6\n",
       "17    [2, 3.2]  [2.2, 2.6]    0.632\n",
       "18   [-2, 2.6]    [1.6, 3]    3.622"
      ]
     },
     "execution_count": 328,
     "metadata": {},
     "output_type": "execute_result"
    }
   ],
   "source": [
    "df_result = pd.DataFrame({'Point_from':[],'Point_to':[],'Distance':[]})\n",
    "temp = pd.DataFrame({'Point_from':[],'Point_to':[],'Distance':[]})\n",
    "min_points = 2\n",
    "current = []\n",
    "distance = []\n",
    "for i in range(len(X)):\n",
    "    current = X[i]\n",
    "    for j in range(len(X)):\n",
    "        next_ = X[j]\n",
    "        if str(current) != str(next_):\n",
    "            dist = round(math.sqrt(sum([(a - b) ** 2 for a, b in zip(current, next_)])),3)\n",
    "            distance.append(dist)\n",
    "            temp.loc[j-1,'Point_from'] = str(current)\n",
    "            temp.loc[j-1,'Point_to'] = str(next_)\n",
    "            temp.loc[j-1,'Distance'] = dist\n",
    "            temp = temp.sort_values(by=['Distance'], ascending=True)\n",
    "            temp.reset_index(drop=True, inplace=True)\n",
    "    #print(distance)\n",
    "    #print(temp)\n",
    "    df_result.loc[i,'Point_from'] = str(current)\n",
    "    df_result.loc[i,'Point_to'] = str(temp['Point_to'][min_points-1])\n",
    "    df_result.loc[i,'Distance'] = str(temp['Distance'][min_points-1])\n",
    "\n",
    "df_result = df_result.sort_values(by=['Distance'], ascending=True)\n",
    "df_result.reset_index(drop=True, inplace=True)\n",
    "df_result"
   ]
  },
  {
   "cell_type": "markdown",
   "metadata": {},
   "source": [
    "#### Key Note:\n",
    "* In order to find optimal hyper parameters i.e.,(Min points & Epsilon:radius length of circle to find core/border/noise point), first we need to calculate all distances between each data point to its nth nearest neighbour data point(that nth  is considered as min points according to rule of thumb).\n",
    "* This makes sense because, in case of noise data points distance with their nth nearest neighbour data point is large i.e., if noise data point is far even from its nearest neighbour, then that value can be considered as (min points) in order to find dense data points region for cluster formation(i.e,points near to each other, away from noise data points).\n",
    "* So, we tries to find all data points distance with its nth nearest neighbour data point and sorts data points in increasing order of their distances. Here noise data points shows high distance with its nearest neighbour data points, so the distance where sudden increase exist(elbow point) means that is noise data point, that distance value can be considered as epsilon(radius length of circle for finding core,neighbour,noise data points)using that we can know which points are densly near points and noisy far points.\n",
    "* So both min points & epsilon are inconnected to find dense data points and noise sparse data points.\n",
    "* In DBSCAN, hyper parameters(Min points & Epsilon) are proposed mostly by business domain expert.\n",
    "* As it is inter linked to each other both hyper parameters are very sensitive, even in slight wrong value clusters formation totally changed."
   ]
  },
  {
   "cell_type": "markdown",
   "metadata": {},
   "source": [
    "&nbsp;"
   ]
  },
  {
   "cell_type": "markdown",
   "metadata": {},
   "source": [
    "&nbsp;"
   ]
  },
  {
   "cell_type": "markdown",
   "metadata": {},
   "source": [
    "### Hyper Parameter Optimization"
   ]
  },
  {
   "cell_type": "code",
   "execution_count": 329,
   "metadata": {},
   "outputs": [
    {
     "data": {
      "image/png": "[encoded data removed]",
      "text/plain": [
       "<Figure size 576x396 with 1 Axes>"
      ]
     },
     "metadata": {},
     "output_type": "display_data"
    }
   ],
   "source": [
    "plt.figure()\n",
    "plt.plot(df_result.index, df_result['Distance'])\n",
    "plt.xlabel(\"Data Points index\")\n",
    "plt.ylabel(\"Distance(Epsilon)\")\n",
    "plt.tight_layout()\n",
    "plt.show()"
   ]
  },
  {
   "cell_type": "markdown",
   "metadata": {},
   "source": [
    "#### Key Note:\n",
    "* By seeing sample data scatter plot, we know min data points=2 makes sense, becuase as noisy data point having its 2nd nearest data point as far, so its distance is high(peak/elbow).\n",
    "* using that distance(which is value epsilon=0.5) & min points=2, DBSCAN able to find dense and sparse regions and formed clusters correctly."
   ]
  },
  {
   "cell_type": "markdown",
   "metadata": {},
   "source": [
    "&nbsp;"
   ]
  },
  {
   "cell_type": "markdown",
   "metadata": {},
   "source": [
    "&nbsp;"
   ]
  },
  {
   "cell_type": "markdown",
   "metadata": {},
   "source": [
    "### Model Fit"
   ]
  },
  {
   "cell_type": "code",
   "execution_count": 323,
   "metadata": {},
   "outputs": [],
   "source": [
    "# Compute DBSCAN\n",
    "db = DBSCAN(eps=0.5, min_samples=2).fit(X)"
   ]
  },
  {
   "cell_type": "markdown",
   "metadata": {},
   "source": [
    "&nbsp;"
   ]
  },
  {
   "cell_type": "markdown",
   "metadata": {},
   "source": [
    "&nbsp;"
   ]
  },
  {
   "cell_type": "markdown",
   "metadata": {},
   "source": [
    "### Predicting Clusters"
   ]
  },
  {
   "cell_type": "code",
   "execution_count": 330,
   "metadata": {},
   "outputs": [
    {
     "data": {
      "text/html": [
       "<div>\n",
       "<style scoped>\n",
       "    .dataframe tbody tr th:only-of-type {\n",
       "        vertical-align: middle;\n",
       "    }\n",
       "\n",
       "    .dataframe tbody tr th {\n",
       "        vertical-align: top;\n",
       "    }\n",
       "\n",
       "    .dataframe thead th {\n",
       "        text-align: right;\n",
       "    }\n",
       "</style>\n",
       "<table border=\"1\" class=\"dataframe\">\n",
       "  <thead>\n",
       "    <tr style=\"text-align: right;\">\n",
       "      <th></th>\n",
       "      <th>X</th>\n",
       "      <th>Y</th>\n",
       "      <th>x_original</th>\n",
       "      <th>y_original</th>\n",
       "      <th>Cluster</th>\n",
       "    </tr>\n",
       "  </thead>\n",
       "  <tbody>\n",
       "    <tr>\n",
       "      <td>0</td>\n",
       "      <td>-2.920112</td>\n",
       "      <td>-1.041205</td>\n",
       "      <td>-2.0</td>\n",
       "      <td>2.6</td>\n",
       "      <td>-1</td>\n",
       "    </tr>\n",
       "    <tr>\n",
       "      <td>1</td>\n",
       "      <td>-0.667031</td>\n",
       "      <td>-0.646861</td>\n",
       "      <td>2.0</td>\n",
       "      <td>3.2</td>\n",
       "      <td>0</td>\n",
       "    </tr>\n",
       "    <tr>\n",
       "      <td>2</td>\n",
       "      <td>-0.892339</td>\n",
       "      <td>-0.778309</td>\n",
       "      <td>1.6</td>\n",
       "      <td>3.0</td>\n",
       "      <td>0</td>\n",
       "    </tr>\n",
       "    <tr>\n",
       "      <td>3</td>\n",
       "      <td>-0.892339</td>\n",
       "      <td>-1.501272</td>\n",
       "      <td>1.6</td>\n",
       "      <td>1.9</td>\n",
       "      <td>0</td>\n",
       "    </tr>\n",
       "    <tr>\n",
       "      <td>4</td>\n",
       "      <td>-0.723358</td>\n",
       "      <td>-1.172652</td>\n",
       "      <td>1.9</td>\n",
       "      <td>2.4</td>\n",
       "      <td>0</td>\n",
       "    </tr>\n",
       "    <tr>\n",
       "      <td>5</td>\n",
       "      <td>-0.554377</td>\n",
       "      <td>-1.041205</td>\n",
       "      <td>2.2</td>\n",
       "      <td>2.6</td>\n",
       "      <td>0</td>\n",
       "    </tr>\n",
       "    <tr>\n",
       "      <td>6</td>\n",
       "      <td>-0.441722</td>\n",
       "      <td>-1.304100</td>\n",
       "      <td>2.4</td>\n",
       "      <td>2.2</td>\n",
       "      <td>0</td>\n",
       "    </tr>\n",
       "    <tr>\n",
       "      <td>7</td>\n",
       "      <td>-0.892339</td>\n",
       "      <td>-1.172652</td>\n",
       "      <td>1.6</td>\n",
       "      <td>2.4</td>\n",
       "      <td>0</td>\n",
       "    </tr>\n",
       "    <tr>\n",
       "      <td>8</td>\n",
       "      <td>0.177875</td>\n",
       "      <td>-0.252518</td>\n",
       "      <td>3.5</td>\n",
       "      <td>3.8</td>\n",
       "      <td>-1</td>\n",
       "    </tr>\n",
       "    <tr>\n",
       "      <td>9</td>\n",
       "      <td>1.022780</td>\n",
       "      <td>0.536169</td>\n",
       "      <td>5.0</td>\n",
       "      <td>5.0</td>\n",
       "      <td>1</td>\n",
       "    </tr>\n",
       "    <tr>\n",
       "      <td>10</td>\n",
       "      <td>1.022780</td>\n",
       "      <td>0.864788</td>\n",
       "      <td>5.0</td>\n",
       "      <td>5.5</td>\n",
       "      <td>1</td>\n",
       "    </tr>\n",
       "    <tr>\n",
       "      <td>11</td>\n",
       "      <td>1.022780</td>\n",
       "      <td>1.193407</td>\n",
       "      <td>5.0</td>\n",
       "      <td>6.0</td>\n",
       "      <td>1</td>\n",
       "    </tr>\n",
       "    <tr>\n",
       "      <td>12</td>\n",
       "      <td>1.022780</td>\n",
       "      <td>1.324855</td>\n",
       "      <td>5.0</td>\n",
       "      <td>6.2</td>\n",
       "      <td>1</td>\n",
       "    </tr>\n",
       "    <tr>\n",
       "      <td>13</td>\n",
       "      <td>0.459510</td>\n",
       "      <td>0.536169</td>\n",
       "      <td>4.0</td>\n",
       "      <td>5.0</td>\n",
       "      <td>1</td>\n",
       "    </tr>\n",
       "    <tr>\n",
       "      <td>14</td>\n",
       "      <td>0.459510</td>\n",
       "      <td>0.864788</td>\n",
       "      <td>4.0</td>\n",
       "      <td>5.5</td>\n",
       "      <td>1</td>\n",
       "    </tr>\n",
       "    <tr>\n",
       "      <td>15</td>\n",
       "      <td>0.741145</td>\n",
       "      <td>1.193407</td>\n",
       "      <td>4.5</td>\n",
       "      <td>6.0</td>\n",
       "      <td>1</td>\n",
       "    </tr>\n",
       "    <tr>\n",
       "      <td>16</td>\n",
       "      <td>0.572164</td>\n",
       "      <td>1.324855</td>\n",
       "      <td>4.2</td>\n",
       "      <td>6.2</td>\n",
       "      <td>1</td>\n",
       "    </tr>\n",
       "    <tr>\n",
       "      <td>17</td>\n",
       "      <td>0.741145</td>\n",
       "      <td>0.404721</td>\n",
       "      <td>4.5</td>\n",
       "      <td>4.8</td>\n",
       "      <td>1</td>\n",
       "    </tr>\n",
       "    <tr>\n",
       "      <td>18</td>\n",
       "      <td>0.741145</td>\n",
       "      <td>0.667616</td>\n",
       "      <td>4.5</td>\n",
       "      <td>5.2</td>\n",
       "      <td>1</td>\n",
       "    </tr>\n",
       "  </tbody>\n",
       "</table>\n",
       "</div>"
      ],
      "text/plain": [
       "           X         Y  x_original  y_original  Cluster\n",
       "0  -2.920112 -1.041205        -2.0         2.6       -1\n",
       "1  -0.667031 -0.646861         2.0         3.2        0\n",
       "2  -0.892339 -0.778309         1.6         3.0        0\n",
       "3  -0.892339 -1.501272         1.6         1.9        0\n",
       "4  -0.723358 -1.172652         1.9         2.4        0\n",
       "5  -0.554377 -1.041205         2.2         2.6        0\n",
       "6  -0.441722 -1.304100         2.4         2.2        0\n",
       "7  -0.892339 -1.172652         1.6         2.4        0\n",
       "8   0.177875 -0.252518         3.5         3.8       -1\n",
       "9   1.022780  0.536169         5.0         5.0        1\n",
       "10  1.022780  0.864788         5.0         5.5        1\n",
       "11  1.022780  1.193407         5.0         6.0        1\n",
       "12  1.022780  1.324855         5.0         6.2        1\n",
       "13  0.459510  0.536169         4.0         5.0        1\n",
       "14  0.459510  0.864788         4.0         5.5        1\n",
       "15  0.741145  1.193407         4.5         6.0        1\n",
       "16  0.572164  1.324855         4.2         6.2        1\n",
       "17  0.741145  0.404721         4.5         4.8        1\n",
       "18  0.741145  0.667616         4.5         5.2        1"
      ]
     },
     "execution_count": 330,
     "metadata": {},
     "output_type": "execute_result"
    }
   ],
   "source": [
    "#Predict clusters\n",
    "clusters = pd.DataFrame(db.fit_predict(df[['X','Y']]))\n",
    "df['Cluster'] = clusters\n",
    "df"
   ]
  },
  {
   "cell_type": "markdown",
   "metadata": {},
   "source": [
    "#### Key Note:\n",
    "* -1 are noisy data points labeled by DBSCAN.\n",
    "* Here, 0 & 1 are other two clusters formed.\n",
    "* As we know according to algorithm steps, its take a data point and find its nearest dense data point(having dist < epsilon) and makes both of them into one cluster.\n",
    "* Once these, one dense region connected points are labelled as cluster, its starts labelling other cluster in other dense region connected data points < epsilon.\n",
    "* Note : As one dense regoin connected points is far from other dense region connected points(which is > epsilon), DBSCAN properly able to distinguish this & to check dense connected data points and labelling as clusters.\n"
   ]
  },
  {
   "cell_type": "markdown",
   "metadata": {},
   "source": [
    "&nbsp;"
   ]
  },
  {
   "cell_type": "markdown",
   "metadata": {},
   "source": [
    "&nbsp;"
   ]
  },
  {
   "cell_type": "markdown",
   "metadata": {},
   "source": [
    "### Visualizing Clusters"
   ]
  },
  {
   "cell_type": "code",
   "execution_count": 326,
   "metadata": {},
   "outputs": [
    {
     "data": {
      "text/plain": [
       "<matplotlib.collections.PathCollection at 0x1a2b3ead50>"
      ]
     },
     "execution_count": 326,
     "metadata": {},
     "output_type": "execute_result"
    },
    {
     "data": {
      "image/png": "[encoded data removed]",
      "text/plain": [
       "<Figure size 432x288 with 1 Axes>"
      ]
     },
     "metadata": {},
     "output_type": "display_data"
    }
   ],
   "source": [
    "plt.style.use('fivethirtyeight') \n",
    "\n",
    "fig,axes = plt.subplots(nrows=1,ncols=1,figsize=(6,4))\n",
    "\n",
    "axes.scatter(-2,2.6,marker='o',color='red',s=200)\n",
    "\n",
    "axes.scatter(1.6,3,marker='o',color='blue',s=200)\n",
    "axes.scatter(1.6,1.9,marker='o',color='blue',s=200)\n",
    "axes.scatter(2,3.2,marker='o',color='blue',s=200)\n",
    "axes.scatter(1.9,2.4,marker='o',color='blue',s=200)\n",
    "axes.scatter(2.2,2.6,marker='o',color='blue',s=200)\n",
    "axes.scatter(2.4,2.2,marker='o',color='blue',s=200)\n",
    "axes.scatter(1.6,2.4,marker='o',color='blue',s=200)\n",
    "\n",
    "# axes.scatter(3.2,3.4,marker='o',color='yellow',s=200)\n",
    "axes.scatter(3.5,3.8,marker='o',color='red',s=200)\n",
    "\n",
    "axes.scatter(5,5,marker='o',color='green',s=200)\n",
    "axes.scatter(5,5.5,marker='o',color='green',s=200)\n",
    "axes.scatter(5,6,marker='o',color='green',s=200)\n",
    "axes.scatter(5,6.2,marker='o',color='green',s=200)\n",
    "axes.scatter(4,5,marker='o',color='green',s=200)\n",
    "axes.scatter(4,5.5,marker='o',color='green',s=200)\n",
    "axes.scatter(4.5,6,marker='o',color='green',s=200)\n",
    "axes.scatter(4.2,6.2,marker='o',color='green',s=200)\n",
    "axes.scatter(4.5,4.8,marker='o',color='green',s=200)\n",
    "axes.scatter(4.5,5.2,marker='o',color='green',s=200)"
   ]
  }
 ],
 "metadata": {
  "kernelspec": {
   "display_name": "Python 3",
   "language": "python",
   "name": "python3"
  },
  "language_info": {
   "codemirror_mode": {
    "name": "ipython",
    "version": 3
   },
   "file_extension": ".py",
   "mimetype": "text/x-python",
   "name": "python",
   "nbconvert_exporter": "python",
   "pygments_lexer": "ipython3",
   "version": "3.7.4"
  }
 },
 "nbformat": 4,
 "nbformat_minor": 4
}
